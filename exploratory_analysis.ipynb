{
 "cells": [
  {
   "cell_type": "code",
   "execution_count": 10,
   "metadata": {},
   "outputs": [
    {
     "data": {
      "text/plain": [
       "Sentiment\n",
       "Positive    82037\n",
       "Negative    82037\n",
       "Name: count, dtype: int64"
      ]
     },
     "execution_count": 10,
     "metadata": {},
     "output_type": "execute_result"
    }
   ],
   "source": [
    "import pandas as pd\n",
    "from sklearn.pipeline import Pipeline\n",
    "from sklearn.linear_model import LogisticRegression\n",
    "from sklearn.feature_extraction.text import CountVectorizer\n",
    "from sklearn.metrics import accuracy_score\n",
    "from sklearn.model_selection import train_test_split\n",
    "df = pd.read_csv('amazon_balanced.csv')\n",
    "df[\"Sentiment\"].value_counts()   # Unbalanced dataset"
   ]
  },
  {
   "cell_type": "markdown",
   "metadata": {},
   "source": [
    "### Pre processing"
   ]
  },
  {
   "cell_type": "code",
   "execution_count": 13,
   "metadata": {},
   "outputs": [
    {
     "name": "stdout",
     "output_type": "stream",
     "text": [
      "Pipe score:  0.9090659759256438\n",
      "Accuracy:  0.9090659759256438\n"
     ]
    }
   ],
   "source": [
    "X = df['Review']\n",
    "label_mapping = {'Positive': 1, 'Negative': 0}\n",
    "y = df['Sentiment'].map(label_mapping)   # 1 for positive, 0 for negative\n",
    "X_train, X_test, y_train, y_test = train_test_split(X, y, test_size=0.2, random_state=0)\n",
    "pipe = Pipeline([('vectorizer', CountVectorizer()), ('model', LogisticRegression(max_iter=1000))])\n",
    "pipe.fit(X_train, y_train)  \n",
    "print(\"Pipe score: \",pipe.score(X_test, y_test))\n",
    "y_pred = pipe.predict(X_test)\n",
    "accuracy = accuracy_score(y_test, y_pred)\n",
    "print(\"Accuracy: \", accuracy)\n"
   ]
  },
  {
   "cell_type": "code",
   "execution_count": 8,
   "metadata": {},
   "outputs": [
    {
     "name": "stdout",
     "output_type": "stream",
     "text": [
      "Prediction positive:  ['Positive']\n",
      "Prediction negative:  ['Negative']\n"
     ]
    }
   ],
   "source": [
    "# Testing for arbitray text\n",
    "text_positive = [\"This product is unbelievably good\"]\n",
    "text_negative = [\"This product is unbelievably bad\"]  # For some reason this is classified as positive\n",
    "prediction_positive = pipe.predict(text_positive)\n",
    "prediction_negative = pipe.predict(text_negative)\n",
    "print(\"Prediction positive: \", prediction_positive)\n",
    "print(\"Prediction negative: \", prediction_negative)"
   ]
  },
  {
   "cell_type": "code",
   "execution_count": null,
   "metadata": {},
   "outputs": [],
   "source": []
  }
 ],
 "metadata": {
  "kernelspec": {
   "display_name": ".venv",
   "language": "python",
   "name": "python3"
  },
  "language_info": {
   "codemirror_mode": {
    "name": "ipython",
    "version": 3
   },
   "file_extension": ".py",
   "mimetype": "text/x-python",
   "name": "python",
   "nbconvert_exporter": "python",
   "pygments_lexer": "ipython3",
   "version": "3.12.5"
  }
 },
 "nbformat": 4,
 "nbformat_minor": 2
}
