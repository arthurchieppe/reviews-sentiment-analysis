{
 "cells": [
  {
   "cell_type": "markdown",
   "metadata": {},
   "source": [
    "# 1. Choose a labeled text dataset used for classification"
   ]
  },
  {
   "cell_type": "code",
   "execution_count": 59,
   "metadata": {},
   "outputs": [
    {
     "data": {
      "text/plain": [
       "Sentiment\n",
       "Positive    82037\n",
       "Negative    82037\n",
       "Name: count, dtype: int64"
      ]
     },
     "execution_count": 59,
     "metadata": {},
     "output_type": "execute_result"
    }
   ],
   "source": [
    "import pandas as pd\n",
    "from sklearn.pipeline import Pipeline\n",
    "from sklearn.linear_model import LogisticRegression\n",
    "from sklearn.feature_extraction.text import CountVectorizer, TfidfVectorizer\n",
    "from sklearn.metrics import  balanced_accuracy_score\n",
    "from sklearn.model_selection import train_test_split\n",
    "df = pd.read_csv('amazon_balanced.csv')\n",
    "df[\"Sentiment\"].value_counts()   # Unbalanced dataset"
   ]
  },
  {
   "cell_type": "code",
   "execution_count": 2,
   "metadata": {},
   "outputs": [],
   "source": [
    "from tabulate import tabulate\n",
    "def print_relevant_words(pipe):\n",
    "    words = pipe['vectorizer'].get_feature_names_out()\n",
    "    print(\"Vocabulary size\", len(words))\n",
    "    coefs = pipe['model'].coef_\n",
    "    classes = pipe['model'].classes_\n",
    "\n",
    "    top_n_words = 10\n",
    "    sorted_coef_indexes = coefs.argsort(axis=1)\n",
    "\n",
    "    negative_words = [(words[i], coefs[0, i]) for i in sorted_coef_indexes[0, :top_n_words]]\n",
    "    positive_words = [(words[i], coefs[0, i]) for i in sorted_coef_indexes[0, -top_n_words:]]\n",
    "\n",
    "    table = []\n",
    "    for neg, pos in zip(negative_words, positive_words):\n",
    "        table.append([f\"{neg[0]} | relevance: {neg[1]:.2f}\", f\"{pos[0]} | relevance: {pos[1]:.2f}\"])\n",
    "\n",
    "    print(tabulate(table, headers=[\"Negative\", \"Positive\"], tablefmt=\"grid\"))"
   ]
  },
  {
   "cell_type": "markdown",
   "metadata": {},
   "source": [
    "# 2. Define a classification pipeline and 3. Run and evaluate the classifier"
   ]
  },
  {
   "cell_type": "code",
   "execution_count": 71,
   "metadata": {},
   "outputs": [],
   "source": [
    "X = df['Review']\n",
    "label_mapping = {'Positive': 1, 'Negative': 0}\n",
    "y = df['Sentiment'].map(label_mapping)   # 1 for positive, 0 for negative"
   ]
  },
  {
   "cell_type": "code",
   "execution_count": 87,
   "metadata": {},
   "outputs": [],
   "source": [
    "from joblib import Parallel, delayed\n",
    "import numpy as np\n",
    "\n",
    "def get_train_test_accuracy(pipeline_factory, x_vector, y_vector):\n",
    "    pipeline = pipeline_factory()\n",
    "    # Split the data into training and testing sets\n",
    "    X_train, X_test, y_train, y_test = train_test_split(x_vector, y_vector, test_size=0.2)\n",
    "    # Train the pipeline\n",
    "    pipeline.fit(X_train, y_train)\n",
    "    # Predict on training set\n",
    "    y_train_pred = pipeline.predict(X_train)\n",
    "    train_accuracy = balanced_accuracy_score(y_train, y_train_pred)\n",
    "    \n",
    "    # Predict on test set\n",
    "    y_test_pred = pipeline.predict(X_test)\n",
    "    test_accuracy = balanced_accuracy_score(y_test, y_test_pred)\n",
    "\n",
    "    return train_accuracy, test_accuracy\n",
    "\n",
    "def get_mean_accurancy(pipeline_factory, x_vector, y_vector, n=10, n_jobs = -1):\n",
    "    results = Parallel(n_jobs=n_jobs)(delayed(get_train_test_accuracy)(pipeline_factory, x_vector, y_vector) for i in range(n))\n",
    "    results = [result for result in results if result is not None]  # Ensure results are not None\n",
    "\n",
    "    train_accuracies = np.array([train_accuracy for train_accuracy, _ in results])\n",
    "    test_accuracies = np.array([test_accuracy for _, test_accuracy in results])\n",
    "    mean_train_accuracies = np.mean(train_accuracies)\n",
    "    mean_test_accuracies = np.mean(test_accuracies)\n",
    "\n",
    "    return mean_train_accuracies, mean_test_accuracies"
   ]
  },
  {
   "cell_type": "code",
   "execution_count": 74,
   "metadata": {},
   "outputs": [
    {
     "name": "stdout",
     "output_type": "stream",
     "text": [
      "Pipe score:  0.8924577175072376\n",
      "Accuracy:  0.892460134037297\n",
      "Vocabulary size 10837\n",
      "+----------------------------------+-------------------------------+\n",
      "| Negative                         | Positive                      |\n",
      "+==================================+===============================+\n",
      "| overrated | relevance: -3.23     | teens | relevance: 1.94       |\n",
      "+----------------------------------+-------------------------------+\n",
      "| dissapointing | relevance: -3.03 | unbeatable | relevance: 1.94  |\n",
      "+----------------------------------+-------------------------------+\n",
      "| unacceptable | relevance: -2.78  | jimmies | relevance: 2.00     |\n",
      "+----------------------------------+-------------------------------+\n",
      "| yuck | relevance: -2.74          | compostable | relevance: 2.01 |\n",
      "+----------------------------------+-------------------------------+\n",
      "| cancelled | relevance: -2.63     | addicting | relevance: 2.01   |\n",
      "+----------------------------------+-------------------------------+\n",
      "| ahold | relevance: -2.49         | emptying | relevance: 2.05    |\n",
      "+----------------------------------+-------------------------------+\n",
      "| ripoff | relevance: -2.46        | yum | relevance: 2.28         |\n",
      "+----------------------------------+-------------------------------+\n",
      "| lacked | relevance: -2.46        | hooked | relevance: 2.28      |\n",
      "+----------------------------------+-------------------------------+\n",
      "| worst | relevance: -2.41         | delish | relevance: 2.29      |\n",
      "+----------------------------------+-------------------------------+\n",
      "| medicinelike | relevance: -2.40  | pleasantly | relevance: 2.65  |\n",
      "+----------------------------------+-------------------------------+\n",
      "Train accuracy: 0.920, Test accuracy: 0.892 over 20 runs\n"
     ]
    }
   ],
   "source": [
    "import re\n",
    "\n",
    "def normal_pipeline_factory():\n",
    "    return Pipeline(\n",
    "        [\n",
    "            (\n",
    "                \"vectorizer\",\n",
    "                CountVectorizer(\n",
    "                    preprocessor=lambda x: re.sub(r\"[^a-zA-Z\\s]\", \"\", x.lower()),\n",
    "                    binary=True,\n",
    "                    stop_words=\"english\",\n",
    "                    min_df=20,\n",
    "                ),\n",
    "            ),\n",
    "            (\"model\", LogisticRegression(max_iter=1000)),\n",
    "        ]\n",
    "    )\n",
    "\n",
    "pipe_count_binary = normal_pipeline_factory()\n",
    "X_train, X_test, y_train, y_test = train_test_split(X, y, test_size=0.2)\n",
    "\n",
    "pipe_count_binary.fit(X_train, y_train)\n",
    "print(\"Pipe score: \", pipe_count_binary.score(X_test, y_test))\n",
    "y_pred = pipe_count_binary.predict(X_test)\n",
    "accuracy = balanced_accuracy_score(y_test, y_pred)\n",
    "print(\"Accuracy: \", accuracy)\n",
    "print_relevant_words(pipe_count_binary)\n",
    "n = 20\n",
    "train_accuracy, test_accurancy = get_mean_accurancy(normal_pipeline_factory, X, y, n)\n",
    "print(f\"Train accuracy: {train_accuracy:.3f}, Test accuracy: {test_accurancy:.3f} over {n} runs\")\n",
    "\n"
   ]
  },
  {
   "cell_type": "code",
   "execution_count": null,
   "metadata": {},
   "outputs": [],
   "source": [
    "# Testing for arbitray text\n",
    "text_positive = [\"This product is unbelievably good\"]\n",
    "text_negative = [\"This product is unbelievably bad\"]  # For some reason this is classified as positive\n",
    "prediction_positive = pipe_count_binary.predict(text_positive)\n",
    "prediction_negative = pipe_count_binary.predict(text_negative)\n",
    "print(\"Prediction positive: \", prediction_positive)\n",
    "print(\"Prediction negative: \", prediction_negative)"
   ]
  },
  {
   "cell_type": "markdown",
   "metadata": {},
   "source": [
    "## Lemmatized pipeline (selected as best)"
   ]
  },
  {
   "cell_type": "code",
   "execution_count": 4,
   "metadata": {},
   "outputs": [],
   "source": [
    "from nltk.stem import WordNetLemmatizer\n",
    "lemmatizer = WordNetLemmatizer()\n",
    "X_lemmatized = X.apply(lambda x: ' '.join([lemmatizer.lemmatize(p) for p in x.lower().split()]))"
   ]
  },
  {
   "cell_type": "code",
   "execution_count": 84,
   "metadata": {},
   "outputs": [
    {
     "name": "stdout",
     "output_type": "stream",
     "text": [
      "Pipe score:  0.8870028950175225\n",
      "Accuracy:  0.8870034456951701\n",
      "Vocabulary size 9612\n",
      "+----------------------------------+--------------------------------+\n",
      "| Negative                         | Positive                       |\n",
      "+==================================+================================+\n",
      "| overrated | relevance: -3.25     | skeptical | relevance: 2.03    |\n",
      "+----------------------------------+--------------------------------+\n",
      "| yikes | relevance: -2.74         | hooked | relevance: 2.07       |\n",
      "+----------------------------------+--------------------------------+\n",
      "| weakest | relevance: -2.74       | yum | relevance: 2.08          |\n",
      "+----------------------------------+--------------------------------+\n",
      "| dissapointing | relevance: -2.72 | nutritionist | relevance: 2.10 |\n",
      "+----------------------------------+--------------------------------+\n",
      "| rediculous | relevance: -2.65    | delish | relevance: 2.17       |\n",
      "+----------------------------------+--------------------------------+\n",
      "| yuck | relevance: -2.65          | addicting | relevance: 2.20    |\n",
      "+----------------------------------+--------------------------------+\n",
      "| worst | relevance: -2.50         | bounce | relevance: 2.23       |\n",
      "+----------------------------------+--------------------------------+\n",
      "| lame | relevance: -2.49          | aging | relevance: 2.29        |\n",
      "+----------------------------------+--------------------------------+\n",
      "| unfinished | relevance: -2.47    | emptying | relevance: 2.42     |\n",
      "+----------------------------------+--------------------------------+\n",
      "| boo | relevance: -2.46           | pleasantly | relevance: 2.87   |\n",
      "+----------------------------------+--------------------------------+\n",
      "Train accuracy: 0.915, Test accuracy: 0.889 over 20 runs\n",
      "Train accuracy: 0.915, Test accuracy: 0.889 over 20 runs\n"
     ]
    }
   ],
   "source": [
    "import re\n",
    "\n",
    "def lemma_pipeline_factory():\n",
    "    return Pipeline(\n",
    "    [\n",
    "        (\n",
    "            \"vectorizer\",\n",
    "            CountVectorizer(\n",
    "                preprocessor=lambda x: re.sub(r\"[^a-zA-Z\\s]\", \"\", x.lower()),\n",
    "                binary=True,\n",
    "                stop_words=\"english\",\n",
    "                min_df=20,\n",
    "            ),\n",
    "        ),\n",
    "        (\"model\", LogisticRegression(max_iter=1000)),\n",
    "    ]\n",
    ")\n",
    "\n",
    "X_train_lemmatized, X_test_lemmatized, y_train_lemmatized, y_test_lemmatized = (\n",
    "    train_test_split(X_lemmatized, y, test_size=0.2, random_state=0)\n",
    ")\n",
    "\n",
    "# Print vocabulary size\n",
    "\n",
    "pipe_lemma_count_binary = lemma_pipeline_factory()\n",
    "pipe_lemma_count_binary.fit(X_train_lemmatized, y_train_lemmatized)\n",
    "print(\n",
    "    \"Pipe score: \", pipe_lemma_count_binary.score(X_test_lemmatized, y_test_lemmatized)\n",
    ")\n",
    "y_pred_lemmatized = pipe_lemma_count_binary.predict(X_test_lemmatized)\n",
    "accuracy = balanced_accuracy_score(y_test_lemmatized, y_pred_lemmatized)\n",
    "print(\"Accuracy: \", accuracy)\n",
    "print_relevant_words(pipe_lemma_count_binary)\n",
    "n = 20\n",
    "train_accuracy, test_accurancy = get_mean_accurancy(lemma_pipeline_factory, X_lemmatized, y, n)\n",
    "print(f\"Train accuracy: {train_accuracy:.3f}, Test accuracy: {test_accurancy:.3f} over {n} runs\")"
   ]
  },
  {
   "cell_type": "markdown",
   "metadata": {},
   "source": [
    "## Stemmed pipeline"
   ]
  },
  {
   "cell_type": "code",
   "execution_count": 47,
   "metadata": {},
   "outputs": [],
   "source": [
    "from nltk.stem import SnowballStemmer\n",
    "stemmer = SnowballStemmer(\"english\")\n",
    "X_stemmed = X.apply(lambda x: ' '.join([stemmer.stem(p) for p in x.lower().split()]))"
   ]
  },
  {
   "cell_type": "code",
   "execution_count": 68,
   "metadata": {},
   "outputs": [
    {
     "name": "stdout",
     "output_type": "stream",
     "text": [
      "Pipe score:  0.8825841840621667\n",
      "Accuracy:  0.8825882562149723\n",
      "Vocabulary size 7663\n",
      "+-----------------------------+--------------------------------+\n",
      "| Negative                    | Positive                       |\n",
      "+=============================+================================+\n",
      "| boo | relevance: -2.84      | delicaci | relevance: 1.92     |\n",
      "+-----------------------------+--------------------------------+\n",
      "| blech | relevance: -2.72    | scotland | relevance: 1.94     |\n",
      "+-----------------------------+--------------------------------+\n",
      "| weakest | relevance: -2.62  | snickerdoodl | relevance: 1.96 |\n",
      "+-----------------------------+--------------------------------+\n",
      "| yuck | relevance: -2.59     | woof | relevance: 1.97         |\n",
      "+-----------------------------+--------------------------------+\n",
      "| overr | relevance: -2.59    | delish | relevance: 2.06       |\n",
      "+-----------------------------+--------------------------------+\n",
      "| schar | relevance: -2.54    | deduct | relevance: 2.09       |\n",
      "+-----------------------------+--------------------------------+\n",
      "| worst | relevance: -2.51    | downsid | relevance: 2.09      |\n",
      "+-----------------------------+--------------------------------+\n",
      "| putrid | relevance: -2.40   | reassur | relevance: 2.14      |\n",
      "+-----------------------------+--------------------------------+\n",
      "| unfinish | relevance: -2.35 | smoothest | relevance: 2.17    |\n",
      "+-----------------------------+--------------------------------+\n",
      "| yike | relevance: -2.33     | yum | relevance: 2.26          |\n",
      "+-----------------------------+--------------------------------+\n",
      "Train accuracy: 0.905, Test accuracy: 0.883 over 20 runs\n"
     ]
    }
   ],
   "source": [
    "X_train_stemmed, X_test_stemmed, y_train_stemmed, y_test_stemmed = train_test_split(\n",
    "    X_stemmed, y, test_size=0.2\n",
    ")\n",
    "\n",
    "def stem_pipeline_factory():\n",
    "    return Pipeline(\n",
    "    [\n",
    "        (\n",
    "            \"vectorizer\",\n",
    "            CountVectorizer(\n",
    "                preprocessor=lambda x: re.sub(r\"[^a-zA-Z\\s]\", \"\", x.lower()),\n",
    "                binary=True,\n",
    "                stop_words=\"english\",\n",
    "                min_df=20,\n",
    "            ),\n",
    "        ),\n",
    "        (\"model\", LogisticRegression(max_iter=1000)),\n",
    "    ]\n",
    ")\n",
    "\n",
    "pipe_stemmed_count = stem_pipeline_factory()\n",
    "# Print vocabulary size\n",
    "\n",
    "pipe_stemmed_count.fit(X_train_stemmed, y_train_stemmed)\n",
    "print(\"Pipe score: \", pipe_stemmed_count.score(X_test_stemmed, y_test_stemmed))\n",
    "y_pred_stemmed = pipe_stemmed_count.predict(X_test_stemmed)\n",
    "accuracy = balanced_accuracy_score(y_test_stemmed, y_pred_stemmed)\n",
    "print(\"Accuracy: \", accuracy)\n",
    "print_relevant_words(pipe_stemmed_count)\n",
    "n = 20\n",
    "train_accuracy, test_accurancy = get_mean_accurancy(stem_pipeline_factory, X_stemmed, y, n)\n",
    "print(f\"Train accuracy: {train_accuracy:.3f}, Test accuracy: {test_accurancy:.3f} over {n} runs\")\n"
   ]
  },
  {
   "cell_type": "markdown",
   "metadata": {},
   "source": [
    "### Selected Pipeline: CountVectorizer, Lemmatization and Logistic Regression\n",
    "#### Reasons \n",
    "* Better interpretability\n",
    "* Smaller vocabulary, less dimensionality\n",
    "* Small differences between classifier mean accuracy."
   ]
  },
  {
   "cell_type": "markdown",
   "metadata": {},
   "source": [
    "# 4. Assess the dataset size"
   ]
  },
  {
   "cell_type": "code",
   "execution_count": 103,
   "metadata": {},
   "outputs": [
    {
     "name": "stdout",
     "output_type": "stream",
     "text": [
      "Processed fraction 0.27464741148160515\n",
      "Processed fraction 0.3088843596477481\n",
      "Processed fraction 0.3473892112083115\n",
      "Processed fraction 0.3906939937054617\n",
      "Processed fraction 0.4393970560760791\n",
      "Processed fraction 0.49417133613238345\n",
      "Processed fraction 0.2442053094548651\n",
      "Processed fraction 0.21713743029375185\n",
      "Processed fraction 0.5557736586486878\n",
      "Processed fraction 0.193069772888325\n",
      "Processed fraction 0.17166979066078603\n",
      "Processed fraction 0.15264179671752334\n",
      "Processed fraction 0.6250551925273973\n",
      "Processed fraction 0.13572287829716537\n",
      "Processed fraction 0.08483428982440722\n",
      "Processed fraction 0.09540954763499938\n",
      "Processed fraction 0.1073030940526156\n",
      "Processed fraction 0.12067926406393285\n",
      "Processed fraction 0.07543120063354615\n",
      "Processed fraction 0.06707035611184306\n",
      "Processed fraction 0.05302611335911987\n",
      "Processed fraction 0.05963623316594643\n",
      "Processed fraction 0.04714866363457394\n",
      "Processed fraction 0.04192267435236916\n",
      "Processed fraction 0.0372759372031494\n",
      "Processed fraction 0.029470517025518096\n",
      "Processed fraction 0.03314424749466426\n",
      "Processed fraction 0.7029732115325472\n",
      "Processed fraction 0.026203985288583486\n",
      "Processed fraction 0.012949258422052624\n",
      "Processed fraction 0.014563484775012436\n",
      "Processed fraction 0.023299518105153717\n",
      "Processed fraction 0.016378937069540637\n",
      "Processed fraction 0.010237739663395848\n",
      "Processed fraction 0.01151395399326447\n",
      "Processed fraction 0.018420699693267165\n",
      "Processed fraction 0.020716983998953078\n",
      "Processed fraction 0.009102981779915217\n",
      "Processed fraction 0.0071968567300115215\n",
      "Processed fraction 0.006399152336349266\n",
      "Processed fraction 0.005689866029018293\n",
      "Processed fraction 0.008094001216083124\n",
      "Processed fraction 0.005059197488435823\n",
      "Processed fraction 0.004498432668969444\n",
      "Processed fraction 0.003999823395608933\n",
      "Processed fraction 0.0035564803062231283\n",
      "Processed fraction 0.0031622776601683794\n",
      "Processed fraction 0.79060432109077\n",
      "Processed fraction 0.8891593339164641\n",
      "Processed fraction 1.0\n"
     ]
    }
   ],
   "source": [
    "from joblib import Parallel, delayed\n",
    "import pandas as pd\n",
    "import numpy as np\n",
    "from sklearn.model_selection import train_test_split\n",
    "from sklearn.feature_extraction.text import CountVectorizer\n",
    "from sklearn.naive_bayes import BernoulliNB\n",
    "from sklearn.metrics import accuracy_score\n",
    "from sklearn.pipeline import Pipeline\n",
    "\n",
    "\n",
    "f_list = np.logspace(0, -2.5, 50)\n",
    "\n",
    "# Function to process one fraction f\n",
    "def process_fraction(x_vector, y_vector, f, n=20):\n",
    "    # Sample the dataset\n",
    "    if float(f) == 1.0:\n",
    "            X_sample, y_sample = x_vector, y_vector\n",
    "    else:\n",
    "        X_sample, _, y_sample, _ = train_test_split(x_vector, y_vector, train_size=float(f))\n",
    "    train_accuracy, test_accuracy = get_mean_accurancy(lemma_pipeline_factory, X_sample, y_sample, n, n_jobs=-1)\n",
    "\n",
    "    # Return the average accuracies for this fraction f\n",
    "    print(\"Processed fraction\", f)\n",
    "    return train_accuracy, test_accuracy\n",
    "\n",
    "def get_accuracy_sample(x_vector, y_vector, f_list):\n",
    "    # Resample the dataset using .sample(frac=f), which gets a fraction of the dataset\n",
    "    results = Parallel(n_jobs=-1)(delayed(process_fraction)(x_vector, y_vector, f) for f in f_list)\n",
    "    \n",
    "    # Separate the train and test accuracies\n",
    "    train_accuracies, test_accuracies = zip(*results)\n",
    "    \n",
    "    return train_accuracies, test_accuracies\n",
    "\n",
    "train_accuracies, test_accuracies = get_accuracy_sample(X_lemmatized, y, f_list)"
   ]
  },
  {
   "cell_type": "code",
   "execution_count": 104,
   "metadata": {},
   "outputs": [
    {
     "data": {
      "text/plain": [
       "<matplotlib.legend.Legend at 0x3180b9640>"
      ]
     },
     "execution_count": 104,
     "metadata": {},
     "output_type": "execute_result"
    },
    {
     "data": {
      "image/png": "[encoded data removed]",
      "text/plain": [
       "<Figure size 640x480 with 1 Axes>"
      ]
     },
     "metadata": {},
     "output_type": "display_data"
    }
   ],
   "source": [
    "import matplotlib.pyplot as plt\n",
    "\n",
    "error_train = [1 - x for x in train_accuracies]\n",
    "error_test = [1 - x for x in test_accuracies]\n",
    "\n",
    "plt.plot(f_list * len(df), error_train, label='Train')\n",
    "plt.plot(f_list * len(df), error_test, label='Test')\n",
    "plt.title(\"Training curves\")\n",
    "plt.legend()"
   ]
  },
  {
   "cell_type": "code",
   "execution_count": null,
   "metadata": {},
   "outputs": [],
   "source": []
  }
 ],
 "metadata": {
  "kernelspec": {
   "display_name": ".venv",
   "language": "python",
   "name": "python3"
  },
  "language_info": {
   "codemirror_mode": {
    "name": "ipython",
    "version": 3
   },
   "file_extension": ".py",
   "mimetype": "text/x-python",
   "name": "python",
   "nbconvert_exporter": "python",
   "pygments_lexer": "ipython3",
   "version": "3.12.5"
  }
 },
 "nbformat": 4,
 "nbformat_minor": 2
}
