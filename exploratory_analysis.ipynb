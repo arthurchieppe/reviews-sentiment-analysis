{
 "cells": [
  {
   "cell_type": "markdown",
   "metadata": {},
   "source": [
    "# 1. Choose a labeled text dataset used for classification"
   ]
  },
  {
   "cell_type": "code",
   "execution_count": 1,
   "metadata": {},
   "outputs": [
    {
     "data": {
      "text/plain": [
       "Sentiment\n",
       "Positive    82037\n",
       "Negative    82037\n",
       "Name: count, dtype: int64"
      ]
     },
     "execution_count": 1,
     "metadata": {},
     "output_type": "execute_result"
    }
   ],
   "source": [
    "import pandas as pd\n",
    "from sklearn.pipeline import Pipeline\n",
    "from sklearn.linear_model import LogisticRegression\n",
    "from sklearn.feature_extraction.text import CountVectorizer, TfidfVectorizer\n",
    "from sklearn.metrics import accuracy_score\n",
    "from sklearn.model_selection import train_test_split\n",
    "df = pd.read_csv('amazon_balanced.csv')\n",
    "df[\"Sentiment\"].value_counts()   # Unbalanced dataset"
   ]
  },
  {
   "cell_type": "code",
   "execution_count": 2,
   "metadata": {},
   "outputs": [],
   "source": [
    "from tabulate import tabulate\n",
    "def print_relevant_words(pipe):\n",
    "    words = pipe['vectorizer'].get_feature_names_out()\n",
    "    print(\"Vocabulary size\", len(words))\n",
    "    coefs = pipe['model'].coef_\n",
    "    classes = pipe['model'].classes_\n",
    "\n",
    "    top_n_words = 10\n",
    "    sorted_coef_indexes = coefs.argsort(axis=1)\n",
    "\n",
    "    negative_words = [(words[i], coefs[0, i]) for i in sorted_coef_indexes[0, :top_n_words]]\n",
    "    positive_words = [(words[i], coefs[0, i]) for i in sorted_coef_indexes[0, -top_n_words:]]\n",
    "\n",
    "    table = []\n",
    "    for neg, pos in zip(negative_words, positive_words):\n",
    "        table.append([f\"{neg[0]} | relevance: {neg[1]:.2f}\", f\"{pos[0]} | relevance: {pos[1]:.2f}\"])\n",
    "\n",
    "    print(tabulate(table, headers=[\"Negative\", \"Positive\"], tablefmt=\"grid\"))"
   ]
  },
  {
   "cell_type": "markdown",
   "metadata": {},
   "source": [
    "# 2. Define a classification pipeline"
   ]
  },
  {
   "cell_type": "code",
   "execution_count": 45,
   "metadata": {},
   "outputs": [],
   "source": [
    "X = df['Review']\n",
    "label_mapping = {'Positive': 1, 'Negative': 0}\n",
    "y = df['Sentiment'].map(label_mapping)   # 1 for positive, 0 for negative\n",
    "X_train, X_test, y_train, y_test = train_test_split(X, y, test_size=0.2)"
   ]
  },
  {
   "cell_type": "code",
   "execution_count": 46,
   "metadata": {},
   "outputs": [
    {
     "name": "stdout",
     "output_type": "stream",
     "text": [
      "Pipe score:  0.8910559195489868\n",
      "Accuracy:  0.8910559195489868\n",
      "Vocabulary size 10786\n",
      "+-----------------------------------+---------------------------------+\n",
      "| Negative                          | Positive                        |\n",
      "+===================================+=================================+\n",
      "| overrated | relevance: -2.93      | drawback | relevance: 2.09      |\n",
      "+-----------------------------------+---------------------------------+\n",
      "| yuck | relevance: -2.78           | unbeatable | relevance: 2.11    |\n",
      "+-----------------------------------+---------------------------------+\n",
      "| weakest | relevance: -2.64        | jimmies | relevance: 2.11       |\n",
      "+-----------------------------------+---------------------------------+\n",
      "| worst | relevance: -2.53          | hydrated | relevance: 2.13      |\n",
      "+-----------------------------------+---------------------------------+\n",
      "| dissapointing | relevance: -2.47  | emptying | relevance: 2.20      |\n",
      "+-----------------------------------+---------------------------------+\n",
      "| blech | relevance: -2.43          | intend | relevance: 2.22        |\n",
      "+-----------------------------------+---------------------------------+\n",
      "| slimey | relevance: -2.40         | hooked | relevance: 2.22        |\n",
      "+-----------------------------------+---------------------------------+\n",
      "| cancelled | relevance: -2.39      | yum | relevance: 2.30           |\n",
      "+-----------------------------------+---------------------------------+\n",
      "| disappointing | relevance: -2.38  | snickerdoodle | relevance: 2.34 |\n",
      "+-----------------------------------+---------------------------------+\n",
      "| dissapointment | relevance: -2.32 | pleasantly | relevance: 2.59    |\n",
      "+-----------------------------------+---------------------------------+\n"
     ]
    }
   ],
   "source": [
    "\n",
    "pipe_count_binary = Pipeline([('vectorizer', CountVectorizer(binary=True, stop_words=\"english\", min_df=20)), ('model', LogisticRegression(max_iter=1000))])\n",
    "# Print vocabulary size\n",
    "\n",
    "pipe_count_binary.fit(X_train, y_train)  \n",
    "print(\"Pipe score: \",pipe_count_binary.score(X_test, y_test))\n",
    "y_pred = pipe_count_binary.predict(X_test)\n",
    "accuracy = accuracy_score(y_test, y_pred)\n",
    "print(\"Accuracy: \", accuracy)\n",
    "print_relevant_words(pipe_count_binary)\n"
   ]
  },
  {
   "cell_type": "code",
   "execution_count": null,
   "metadata": {},
   "outputs": [],
   "source": [
    "# Testing for arbitray text\n",
    "text_positive = [\"This product is unbelievably good\"]\n",
    "text_negative = [\"This product is unbelievably bad\"]  # For some reason this is classified as positive\n",
    "prediction_positive = pipe_count_binary.predict(text_positive)\n",
    "prediction_negative = pipe_count_binary.predict(text_negative)\n",
    "print(\"Prediction positive: \", prediction_positive)\n",
    "print(\"Prediction negative: \", prediction_negative)"
   ]
  },
  {
   "cell_type": "markdown",
   "metadata": {},
   "source": [
    "## Lemmatized pipeline (selected as best)"
   ]
  },
  {
   "cell_type": "code",
   "execution_count": 4,
   "metadata": {},
   "outputs": [],
   "source": [
    "from nltk.stem import WordNetLemmatizer\n",
    "lemmatizer = WordNetLemmatizer()\n",
    "X_lemmatized = X.apply(lambda x: ' '.join([lemmatizer.lemmatize(p) for p in x.lower().split()]))"
   ]
  },
  {
   "cell_type": "code",
   "execution_count": 44,
   "metadata": {},
   "outputs": [
    {
     "name": "stdout",
     "output_type": "stream",
     "text": [
      "Pipe score:  0.8870028950175225\n",
      "Accuracy:  0.8870028950175225\n",
      "Vocabulary size 9612\n",
      "+----------------------------------+--------------------------------+\n",
      "| Negative                         | Positive                       |\n",
      "+==================================+================================+\n",
      "| overrated | relevance: -3.25     | skeptical | relevance: 2.03    |\n",
      "+----------------------------------+--------------------------------+\n",
      "| yikes | relevance: -2.74         | hooked | relevance: 2.07       |\n",
      "+----------------------------------+--------------------------------+\n",
      "| weakest | relevance: -2.74       | yum | relevance: 2.08          |\n",
      "+----------------------------------+--------------------------------+\n",
      "| dissapointing | relevance: -2.72 | nutritionist | relevance: 2.10 |\n",
      "+----------------------------------+--------------------------------+\n",
      "| rediculous | relevance: -2.65    | delish | relevance: 2.17       |\n",
      "+----------------------------------+--------------------------------+\n",
      "| yuck | relevance: -2.65          | addicting | relevance: 2.20    |\n",
      "+----------------------------------+--------------------------------+\n",
      "| worst | relevance: -2.50         | bounce | relevance: 2.23       |\n",
      "+----------------------------------+--------------------------------+\n",
      "| lame | relevance: -2.49          | aging | relevance: 2.29        |\n",
      "+----------------------------------+--------------------------------+\n",
      "| unfinished | relevance: -2.47    | emptying | relevance: 2.42     |\n",
      "+----------------------------------+--------------------------------+\n",
      "| boo | relevance: -2.46           | pleasantly | relevance: 2.87   |\n",
      "+----------------------------------+--------------------------------+\n"
     ]
    }
   ],
   "source": [
    "import re\n",
    "\n",
    "X_train_lemmatized, X_test_lemmatized, y_train_lemmatized, y_test_lemmatized = (\n",
    "    train_test_split(X_lemmatized, y, test_size=0.2, random_state=0)\n",
    ")\n",
    "pipe_lemma_count_binary = Pipeline(\n",
    "    [\n",
    "        (\n",
    "            \"vectorizer\",\n",
    "            CountVectorizer(\n",
    "                preprocessor=lambda x: re.sub(r\"[^a-zA-Z\\s]\", \"\", x.lower()),\n",
    "                binary=True,\n",
    "                stop_words=\"english\",\n",
    "                min_df=20,\n",
    "            ),\n",
    "        ),\n",
    "        (\"model\", LogisticRegression(max_iter=1000)),\n",
    "    ]\n",
    ")\n",
    "# Print vocabulary size\n",
    "\n",
    "pipe_lemma_count_binary.fit(X_train_lemmatized, y_train_lemmatized)\n",
    "print(\n",
    "    \"Pipe score: \", pipe_lemma_count_binary.score(X_test_lemmatized, y_test_lemmatized)\n",
    ")\n",
    "y_pred_lemmatized = pipe_lemma_count_binary.predict(X_test_lemmatized)\n",
    "accuracy = accuracy_score(y_test_lemmatized, y_pred_lemmatized)\n",
    "print(\"Accuracy: \", accuracy)\n",
    "print_relevant_words(pipe_lemma_count_binary)"
   ]
  },
  {
   "cell_type": "markdown",
   "metadata": {},
   "source": [
    "## Stemmed pipeline"
   ]
  },
  {
   "cell_type": "code",
   "execution_count": 47,
   "metadata": {},
   "outputs": [],
   "source": [
    "from nltk.stem import SnowballStemmer\n",
    "stemmer = SnowballStemmer(\"english\")\n",
    "X_stemmed = X.apply(lambda x: ' '.join([stemmer.stem(p) for p in x.lower().split()]))"
   ]
  },
  {
   "cell_type": "code",
   "execution_count": 48,
   "metadata": {},
   "outputs": [
    {
     "name": "stdout",
     "output_type": "stream",
     "text": [
      "Pipe score:  0.8837726649398141\n",
      "Accuracy:  0.8837726649398141\n",
      "Vocabulary size 7639\n",
      "+-----------------------------+--------------------------------+\n",
      "| Negative                    | Positive                       |\n",
      "+=============================+================================+\n",
      "| weakest | relevance: -3.70  | leash | relevance: 2.00        |\n",
      "+-----------------------------+--------------------------------+\n",
      "| badso | relevance: -3.15    | rusk | relevance: 2.02         |\n",
      "+-----------------------------+--------------------------------+\n",
      "| putrid | relevance: -2.92   | snickerdoodl | relevance: 2.06 |\n",
      "+-----------------------------+--------------------------------+\n",
      "| yuck | relevance: -2.75     | preschool | relevance: 2.07    |\n",
      "+-----------------------------+--------------------------------+\n",
      "| boo | relevance: -2.73      | fairad | relevance: 2.08       |\n",
      "+-----------------------------+--------------------------------+\n",
      "| yike | relevance: -2.68     | deduct | relevance: 2.10       |\n",
      "+-----------------------------+--------------------------------+\n",
      "| ick | relevance: -2.53      | fascin | relevance: 2.15       |\n",
      "+-----------------------------+--------------------------------+\n",
      "| worst | relevance: -2.41    | hypoallergen | relevance: 2.18 |\n",
      "+-----------------------------+--------------------------------+\n",
      "| schar | relevance: -2.39    | reassur | relevance: 2.18      |\n",
      "+-----------------------------+--------------------------------+\n",
      "| unfinish | relevance: -2.35 | yum | relevance: 2.36          |\n",
      "+-----------------------------+--------------------------------+\n"
     ]
    }
   ],
   "source": [
    "X_train_stemmed, X_test_stemmed, y_train_stemmed, y_test_stemmed = train_test_split(X_stemmed, y, test_size=0.2)\n",
    "pipe_stemmed_count = Pipeline([('vectorizer', CountVectorizer(binary=True, stop_words=\"english\", min_df=20)), ('model', LogisticRegression(max_iter=1000))])\n",
    "# Print vocabulary size\n",
    "\n",
    "pipe_stemmed_count.fit(X_train_stemmed, y_train_stemmed)  \n",
    "print(\"Pipe score: \",pipe_stemmed_count.score(X_test_stemmed, y_test_stemmed))\n",
    "y_pred_stemmed = pipe_stemmed_count.predict(X_test_stemmed)\n",
    "accuracy = accuracy_score(y_test_stemmed, y_pred_stemmed)\n",
    "print(\"Accuracy: \", accuracy)\n",
    "print_relevant_words(pipe_stemmed_count)"
   ]
  },
  {
   "cell_type": "markdown",
   "metadata": {},
   "source": [
    "### Selected Pipeline: CountVectorizer, Lemmatization and Logistic Regression"
   ]
  },
  {
   "cell_type": "code",
   "execution_count": null,
   "metadata": {},
   "outputs": [],
   "source": []
  }
 ],
 "metadata": {
  "kernelspec": {
   "display_name": ".venv",
   "language": "python",
   "name": "python3"
  },
  "language_info": {
   "codemirror_mode": {
    "name": "ipython",
    "version": 3
   },
   "file_extension": ".py",
   "mimetype": "text/x-python",
   "name": "python",
   "nbconvert_exporter": "python",
   "pygments_lexer": "ipython3",
   "version": "3.12.5"
  }
 },
 "nbformat": 4,
 "nbformat_minor": 2
}
