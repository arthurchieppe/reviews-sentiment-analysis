{
 "cells": [
  {
   "cell_type": "code",
   "execution_count": 1,
   "metadata": {},
   "outputs": [
    {
     "data": {
      "text/plain": [
       "Sentiment\n",
       "Positive    82037\n",
       "Negative    82037\n",
       "Name: count, dtype: int64"
      ]
     },
     "execution_count": 1,
     "metadata": {},
     "output_type": "execute_result"
    }
   ],
   "source": [
    "import pandas as pd\n",
    "from sklearn.pipeline import Pipeline\n",
    "from sklearn.linear_model import LogisticRegression\n",
    "from sklearn.feature_extraction.text import CountVectorizer, TfidfVectorizer\n",
    "from sklearn.metrics import accuracy_score\n",
    "from sklearn.model_selection import train_test_split\n",
    "df = pd.read_csv('amazon_balanced.csv')\n",
    "df[\"Sentiment\"].value_counts()   # Unbalanced dataset"
   ]
  },
  {
   "cell_type": "code",
   "execution_count": 2,
   "metadata": {},
   "outputs": [],
   "source": [
    "from tabulate import tabulate\n",
    "def print_relevant_words(pipe):\n",
    "    words = pipe['vectorizer'].get_feature_names_out()\n",
    "    print(\"Vocabulary size\", len(words))\n",
    "    coefs = pipe['model'].coef_\n",
    "    classes = pipe['model'].classes_\n",
    "\n",
    "    top_n_words = 10\n",
    "    sorted_coef_indexes = coefs.argsort(axis=1)\n",
    "\n",
    "    negative_words = [(words[i], coefs[0, i]) for i in sorted_coef_indexes[0, :top_n_words]]\n",
    "    positive_words = [(words[i], coefs[0, i]) for i in sorted_coef_indexes[0, -top_n_words:]]\n",
    "\n",
    "    table = []\n",
    "    for neg, pos in zip(negative_words, positive_words):\n",
    "        table.append([f\"{neg[0]} | relevance: {neg[1]:.2f}\", f\"{pos[0]} | relevance: {pos[1]:.2f}\"])\n",
    "\n",
    "    print(tabulate(table, headers=[\"Negative\", \"Positive\"], tablefmt=\"grid\"))"
   ]
  },
  {
   "cell_type": "markdown",
   "metadata": {},
   "source": [
    "### Pre processing"
   ]
  },
  {
   "cell_type": "code",
   "execution_count": 3,
   "metadata": {},
   "outputs": [],
   "source": [
    "X = df['Review']\n",
    "label_mapping = {'Positive': 1, 'Negative': 0}\n",
    "y = df['Sentiment'].map(label_mapping)   # 1 for positive, 0 for negative\n",
    "X_train, X_test, y_train, y_test = train_test_split(X, y, test_size=0.2)"
   ]
  },
  {
   "cell_type": "markdown",
   "metadata": {},
   "source": [
    "Normal tfidf vectorizer"
   ]
  },
  {
   "cell_type": "code",
   "execution_count": 4,
   "metadata": {},
   "outputs": [
    {
     "name": "stdout",
     "output_type": "stream",
     "text": [
      "Pipe score:  0.8968154807252781\n",
      "Accuracy:  0.8968154807252781\n",
      "Vocabulary size 131413\n",
      "+-----------------------------------+------------------------------+\n",
      "| Negative                          | Positive                     |\n",
      "+===================================+==============================+\n",
      "| worst | relevance: -9.98          | good | relevance: 7.13       |\n",
      "+-----------------------------------+------------------------------+\n",
      "| disappointed | relevance: -9.81   | awesome | relevance: 7.15    |\n",
      "+-----------------------------------+------------------------------+\n",
      "| terrible | relevance: -9.71       | wonderful | relevance: 7.46  |\n",
      "+-----------------------------------+------------------------------+\n",
      "| disappointing | relevance: -9.23  | love | relevance: 7.82       |\n",
      "+-----------------------------------+------------------------------+\n",
      "| awful | relevance: -8.74          | loves | relevance: 8.46      |\n",
      "+-----------------------------------+------------------------------+\n",
      "| horrible | relevance: -8.22       | perfect | relevance: 8.57    |\n",
      "+-----------------------------------+------------------------------+\n",
      "| yuck | relevance: -7.98           | excellent | relevance: 9.49  |\n",
      "+-----------------------------------+------------------------------+\n",
      "| poor | relevance: -6.70           | best | relevance: 10.34      |\n",
      "+-----------------------------------+------------------------------+\n",
      "| disappointment | relevance: -6.47 | delicious | relevance: 10.79 |\n",
      "+-----------------------------------+------------------------------+\n",
      "| weak | relevance: -6.09           | great | relevance: 12.56     |\n",
      "+-----------------------------------+------------------------------+\n"
     ]
    }
   ],
   "source": [
    "\n",
    "pipe_tfidf = Pipeline([('vectorizer', TfidfVectorizer( stop_words=\"english\")), ('model', LogisticRegression(max_iter=1000))])\n",
    "# Print vocabulary size\n",
    "\n",
    "pipe_tfidf.fit(X_train, y_train)  \n",
    "print(\"Pipe score: \",pipe_tfidf.score(X_test, y_test))\n",
    "y_pred = pipe_tfidf.predict(X_test)\n",
    "accuracy = accuracy_score(y_test, y_pred)\n",
    "print(\"Accuracy: \", accuracy)\n",
    "print_relevant_words(pipe_tfidf)\n"
   ]
  },
  {
   "cell_type": "markdown",
   "metadata": {},
   "source": [
    "Normal CountVectorizer binary=True"
   ]
  },
  {
   "cell_type": "code",
   "execution_count": 5,
   "metadata": {},
   "outputs": [
    {
     "name": "stdout",
     "output_type": "stream",
     "text": [
      "Pipe score:  0.8896236477220784\n",
      "Accuracy:  0.8896236477220784\n",
      "Vocabulary size 10826\n",
      "+----------------------------------+------------------------------+\n",
      "| Negative                         | Positive                     |\n",
      "+==================================+==============================+\n",
      "| overrated | relevance: -3.07     | removes | relevance: 2.11    |\n",
      "+----------------------------------+------------------------------+\n",
      "| defeats | relevance: -3.02       | definitly | relevance: 2.13  |\n",
      "+----------------------------------+------------------------------+\n",
      "| yuck | relevance: -2.80          | addicting | relevance: 2.14  |\n",
      "+----------------------------------+------------------------------+\n",
      "| undrinkable | relevance: -2.58   | smoothest | relevance: 2.22  |\n",
      "+----------------------------------+------------------------------+\n",
      "| disappointing | relevance: -2.52 | unbeatable | relevance: 2.24 |\n",
      "+----------------------------------+------------------------------+\n",
      "| medicinelike | relevance: -2.47  | teens | relevance: 2.28      |\n",
      "+----------------------------------+------------------------------+\n",
      "| dissapointing | relevance: -2.46 | yum | relevance: 2.39        |\n",
      "+----------------------------------+------------------------------+\n",
      "| worst | relevance: -2.44         | hooked | relevance: 2.45     |\n",
      "+----------------------------------+------------------------------+\n",
      "| weakest | relevance: -2.39       | jimmies | relevance: 2.46    |\n",
      "+----------------------------------+------------------------------+\n",
      "| cancelled | relevance: -2.38     | pleasantly | relevance: 2.79 |\n",
      "+----------------------------------+------------------------------+\n"
     ]
    }
   ],
   "source": [
    "\n",
    "pipe_count_binary = Pipeline([('vectorizer', CountVectorizer(binary=True, stop_words=\"english\", min_df=20)), ('model', LogisticRegression(max_iter=1000))])\n",
    "# Print vocabulary size\n",
    "\n",
    "pipe_count_binary.fit(X_train, y_train)  \n",
    "print(\"Pipe score: \",pipe_count_binary.score(X_test, y_test))\n",
    "y_pred = pipe_count_binary.predict(X_test)\n",
    "accuracy = accuracy_score(y_test, y_pred)\n",
    "print(\"Accuracy: \", accuracy)\n",
    "print_relevant_words(pipe_count_binary)\n"
   ]
  },
  {
   "cell_type": "markdown",
   "metadata": {},
   "source": [
    "Normal CountVectorizer binary=False"
   ]
  },
  {
   "cell_type": "code",
   "execution_count": 6,
   "metadata": {},
   "outputs": [
    {
     "name": "stdout",
     "output_type": "stream",
     "text": [
      "Pipe score:  0.887368581441414\n",
      "Accuracy:  0.887368581441414\n",
      "Vocabulary size 4278\n",
      "+----------------------------------+------------------------------+\n",
      "| Negative                         | Positive                     |\n",
      "+==================================+==============================+\n",
      "| undrinkable | relevance: -2.81   | addicting | relevance: 1.69  |\n",
      "+----------------------------------+------------------------------+\n",
      "| yuck | relevance: -2.51          | whim | relevance: 1.72       |\n",
      "+----------------------------------+------------------------------+\n",
      "| defeats | relevance: -2.41       | awesome | relevance: 1.72    |\n",
      "+----------------------------------+------------------------------+\n",
      "| cancelled | relevance: -2.36     | intend | relevance: 1.80     |\n",
      "+----------------------------------+------------------------------+\n",
      "| disappointing | relevance: -2.21 | hooked | relevance: 1.81     |\n",
      "+----------------------------------+------------------------------+\n",
      "| worst | relevance: -2.17         | downside | relevance: 1.95   |\n",
      "+----------------------------------+------------------------------+\n",
      "| blech | relevance: -2.15         | delish | relevance: 1.96     |\n",
      "+----------------------------------+------------------------------+\n",
      "| terrible | relevance: -2.09      | yum | relevance: 2.24        |\n",
      "+----------------------------------+------------------------------+\n",
      "| tossed | relevance: -2.02        | worried | relevance: 2.35    |\n",
      "+----------------------------------+------------------------------+\n",
      "| disapointed | relevance: -2.01   | pleasantly | relevance: 2.76 |\n",
      "+----------------------------------+------------------------------+\n"
     ]
    }
   ],
   "source": [
    "\n",
    "pipe_count_binary_false = Pipeline([('vectorizer', CountVectorizer(binary=False, stop_words=\"english\", min_df=100)), ('model', LogisticRegression(max_iter=1000))])\n",
    "# Print vocabulary size\n",
    "\n",
    "pipe_count_binary_false.fit(X_train, y_train)  \n",
    "print(\"Pipe score: \",pipe_count_binary_false.score(X_test, y_test))\n",
    "y_pred = pipe_count_binary_false.predict(X_test)\n",
    "accuracy = accuracy_score(y_test, y_pred)\n",
    "print(\"Accuracy: \", accuracy)\n",
    "print_relevant_words(pipe_count_binary_false)\n"
   ]
  },
  {
   "cell_type": "code",
   "execution_count": null,
   "metadata": {},
   "outputs": [],
   "source": [
    "# Testing for arbitray text\n",
    "text_positive = [\"This product is unbelievably good\"]\n",
    "text_negative = [\"This product is unbelievably bad\"]  # For some reason this is classified as positive\n",
    "prediction_positive = pipe_tfidf.predict(text_positive)\n",
    "prediction_negative = pipe_tfidf.predict(text_negative)\n",
    "print(\"Prediction positive: \", prediction_positive)\n",
    "print(\"Prediction negative: \", prediction_negative)"
   ]
  },
  {
   "cell_type": "markdown",
   "metadata": {},
   "source": [
    "## Trying with lemma"
   ]
  },
  {
   "cell_type": "code",
   "execution_count": 4,
   "metadata": {},
   "outputs": [],
   "source": [
    "from nltk.stem import WordNetLemmatizer\n",
    "lemmatizer = WordNetLemmatizer()\n",
    "X_lemmatized = X.apply(lambda x: ' '.join([lemmatizer.lemmatize(p) for p in x.lower().split()]))"
   ]
  },
  {
   "cell_type": "markdown",
   "metadata": {},
   "source": [
    "Lemma tfidf"
   ]
  },
  {
   "cell_type": "code",
   "execution_count": null,
   "metadata": {},
   "outputs": [],
   "source": [
    "X_train_lemmatized, X_test_lemmatized, y_train_lemmatized, y_test_lemmatized = train_test_split(X_lemmatized, y, test_size=0.2)\n",
    "pipe_lemma_tfidf = Pipeline([('vectorizer', TfidfVectorizer( stop_words=\"english\")), ('model', LogisticRegression(max_iter=1000))])\n",
    "# Print vocabulary size\n",
    "\n",
    "pipe_lemma_tfidf.fit(X_train_lemmatized, y_train_lemmatized)  \n",
    "print(\"Pipe score: \",pipe_lemma_tfidf.score(X_test_lemmatized, y_test_lemmatized))\n",
    "y_pred_lemmatized = pipe_lemma_tfidf.predict(X_test_lemmatized)\n",
    "accuracy = accuracy_score(y_test_lemmatized, y_pred_lemmatized)\n",
    "print(\"Accuracy: \", accuracy)\n",
    "print_relevant_words(pipe_lemma_tfidf)"
   ]
  },
  {
   "cell_type": "markdown",
   "metadata": {},
   "source": [
    "Lemma countVectorizer\n"
   ]
  },
  {
   "cell_type": "code",
   "execution_count": 44,
   "metadata": {},
   "outputs": [
    {
     "name": "stdout",
     "output_type": "stream",
     "text": [
      "Pipe score:  0.8870028950175225\n",
      "Accuracy:  0.8870028950175225\n",
      "Vocabulary size 9612\n",
      "+----------------------------------+--------------------------------+\n",
      "| Negative                         | Positive                       |\n",
      "+==================================+================================+\n",
      "| overrated | relevance: -3.25     | skeptical | relevance: 2.03    |\n",
      "+----------------------------------+--------------------------------+\n",
      "| yikes | relevance: -2.74         | hooked | relevance: 2.07       |\n",
      "+----------------------------------+--------------------------------+\n",
      "| weakest | relevance: -2.74       | yum | relevance: 2.08          |\n",
      "+----------------------------------+--------------------------------+\n",
      "| dissapointing | relevance: -2.72 | nutritionist | relevance: 2.10 |\n",
      "+----------------------------------+--------------------------------+\n",
      "| rediculous | relevance: -2.65    | delish | relevance: 2.17       |\n",
      "+----------------------------------+--------------------------------+\n",
      "| yuck | relevance: -2.65          | addicting | relevance: 2.20    |\n",
      "+----------------------------------+--------------------------------+\n",
      "| worst | relevance: -2.50         | bounce | relevance: 2.23       |\n",
      "+----------------------------------+--------------------------------+\n",
      "| lame | relevance: -2.49          | aging | relevance: 2.29        |\n",
      "+----------------------------------+--------------------------------+\n",
      "| unfinished | relevance: -2.47    | emptying | relevance: 2.42     |\n",
      "+----------------------------------+--------------------------------+\n",
      "| boo | relevance: -2.46           | pleasantly | relevance: 2.87   |\n",
      "+----------------------------------+--------------------------------+\n"
     ]
    }
   ],
   "source": [
    "import re\n",
    "\n",
    "X_train_lemmatized, X_test_lemmatized, y_train_lemmatized, y_test_lemmatized = (\n",
    "    train_test_split(X_lemmatized, y, test_size=0.2, random_state=0)\n",
    ")\n",
    "pipe_lemma_count_binary = Pipeline(\n",
    "    [\n",
    "        (\n",
    "            \"vectorizer\",\n",
    "            CountVectorizer(\n",
    "                preprocessor=lambda x: re.sub(r\"[^a-zA-Z\\s]\", \"\", x.lower()),\n",
    "                binary=True,\n",
    "                stop_words=\"english\",\n",
    "                min_df=20,\n",
    "            ),\n",
    "        ),\n",
    "        (\"model\", LogisticRegression(max_iter=1000)),\n",
    "    ]\n",
    ")\n",
    "# Print vocabulary size\n",
    "\n",
    "pipe_lemma_count_binary.fit(X_train_lemmatized, y_train_lemmatized)\n",
    "print(\n",
    "    \"Pipe score: \", pipe_lemma_count_binary.score(X_test_lemmatized, y_test_lemmatized)\n",
    ")\n",
    "y_pred_lemmatized = pipe_lemma_count_binary.predict(X_test_lemmatized)\n",
    "accuracy = accuracy_score(y_test_lemmatized, y_pred_lemmatized)\n",
    "print(\"Accuracy: \", accuracy)\n",
    "print_relevant_words(pipe_lemma_count_binary)"
   ]
  },
  {
   "cell_type": "code",
   "execution_count": 43,
   "metadata": {},
   "outputs": [
    {
     "name": "stdout",
     "output_type": "stream",
     "text": [
      "Prediction positive:  [1]\n",
      "Prediction negative:  [0]\n"
     ]
    }
   ],
   "source": [
    "# Testing for arbitray text\n",
    "text_positive = [\"This product is unbelievably extraordinary\"]\n",
    "text_negative = [\"This product is unbelievably bad\"]  # For some reason this is classified as positive\n",
    "prediction_positive = pipe_lemma_count_binary.predict(text_positive)\n",
    "prediction_negative = pipe_lemma_count_binary.predict(text_negative)\n",
    "print(\"Prediction positive: \", prediction_positive)\n",
    "print(\"Prediction negative: \", prediction_negative)"
   ]
  },
  {
   "cell_type": "markdown",
   "metadata": {},
   "source": [
    "# Trying with stems"
   ]
  },
  {
   "cell_type": "code",
   "execution_count": 28,
   "metadata": {},
   "outputs": [],
   "source": [
    "from nltk.stem import SnowballStemmer\n",
    "stemmer = SnowballStemmer(\"english\")\n",
    "X_stemmed = X.apply(lambda x: ' '.join([stemmer.stem(p) for p in x.lower().split()]))"
   ]
  },
  {
   "cell_type": "markdown",
   "metadata": {},
   "source": [
    "Stemmed with tfidf"
   ]
  },
  {
   "cell_type": "code",
   "execution_count": null,
   "metadata": {},
   "outputs": [],
   "source": [
    "X_train_stemmed, X_test_stemmed, y_train_stemmed, y_test_stemmed = train_test_split(X_stemmed, y, test_size=0.2)\n",
    "pipe_stemmed_tfidf = Pipeline([('vectorizer', TfidfVectorizer( stop_words=\"english\")), ('model', LogisticRegression(max_iter=1000))])\n",
    "# Print vocabulary size\n",
    "\n",
    "pipe_stemmed_tfidf.fit(X_train_stemmed, y_train_stemmed)  \n",
    "print(\"Pipe score: \",pipe_stemmed_tfidf.score(X_test_stemmed, y_test_stemmed))\n",
    "y_pred_stemmed = pipe_stemmed_tfidf.predict(X_test_stemmed)\n",
    "accuracy = accuracy_score(y_test_stemmed, y_pred_stemmed)\n",
    "print(\"Accuracy: \", accuracy)\n",
    "print_relevant_words(pipe_stemmed_tfidf)"
   ]
  },
  {
   "cell_type": "markdown",
   "metadata": {},
   "source": [
    "Stemmed with countVectorizer"
   ]
  },
  {
   "cell_type": "code",
   "execution_count": null,
   "metadata": {},
   "outputs": [],
   "source": [
    "X_train_stemmed, X_test_stemmed, y_train_stemmed, y_test_stemmed = train_test_split(X_stemmed, y, test_size=0.2)\n",
    "pipe_stemmed_count = Pipeline([('vectorizer', CountVectorizer(binary=True, stop_words=\"english\")), ('model', LogisticRegression(max_iter=1000))])\n",
    "# Print vocabulary size\n",
    "\n",
    "pipe_stemmed_count.fit(X_train_stemmed, y_train_stemmed)  \n",
    "print(\"Pipe score: \",pipe_stemmed_count.score(X_test_stemmed, y_test_stemmed))\n",
    "y_pred_stemmed = pipe_stemmed_count.predict(X_test_stemmed)\n",
    "accuracy = accuracy_score(y_test_stemmed, y_pred_stemmed)\n",
    "print(\"Accuracy: \", accuracy)\n",
    "print_relevant_words(pipe_stemmed_count)"
   ]
  },
  {
   "cell_type": "code",
   "execution_count": null,
   "metadata": {},
   "outputs": [],
   "source": []
  }
 ],
 "metadata": {
  "kernelspec": {
   "display_name": ".venv",
   "language": "python",
   "name": "python3"
  },
  "language_info": {
   "codemirror_mode": {
    "name": "ipython",
    "version": 3
   },
   "file_extension": ".py",
   "mimetype": "text/x-python",
   "name": "python",
   "nbconvert_exporter": "python",
   "pygments_lexer": "ipython3",
   "version": "3.12.5"
  }
 },
 "nbformat": 4,
 "nbformat_minor": 2
}
